{
 "cells": [
  {
   "attachments": {},
   "cell_type": "markdown",
   "metadata": {},
   "source": [
    "## Single Object pickling"
   ]
  },
  {
   "cell_type": "code",
   "execution_count": 6,
   "metadata": {},
   "outputs": [
    {
     "name": "stdout",
     "output_type": "stream",
     "text": [
      "Person(John, 30)\n"
     ]
    }
   ],
   "source": [
    "import pickle\n",
    "\n",
    "class Person:\n",
    "    def __init__(self, name, age):\n",
    "        self.name = name\n",
    "        self.age = age\n",
    "\n",
    "    def __repr__(self):\n",
    "        return f'Person({self.name}, {self.age})'\n",
    "    \n",
    "p1 = Person('John', 30)\n",
    "\n",
    "print(p1)\n",
    "\n",
    "with open('person.pickle', 'wb') as f:\n",
    "    pickle.dump(p1, f)"
   ]
  },
  {
   "cell_type": "code",
   "execution_count": 7,
   "metadata": {},
   "outputs": [
    {
     "name": "stdout",
     "output_type": "stream",
     "text": [
      "Person(John, 30)\n"
     ]
    }
   ],
   "source": [
    "with open('person.pickle', 'rb') as f:\n",
    "    p2 = pickle.load(f)\n",
    "\n",
    "print(p2)"
   ]
  },
  {
   "attachments": {},
   "cell_type": "markdown",
   "metadata": {},
   "source": [
    "## Multiple Object pickling"
   ]
  },
  {
   "cell_type": "code",
   "execution_count": 8,
   "metadata": {},
   "outputs": [
    {
     "name": "stdout",
     "output_type": "stream",
     "text": [
      "Group([Person(John, 30), Person(Jane, 29), Person(Bob, 35)])\n"
     ]
    }
   ],
   "source": [
    "from typing import List\n",
    "\n",
    "class Group:\n",
    "    def __init__(self, people):\n",
    "        self.people: List[Person] = people\n",
    "\n",
    "    def __repr__(self):\n",
    "        return f'Group({self.people})'\n",
    "    \n",
    "\n",
    "p1 = Person('John', 30)\n",
    "p2 = Person('Jane', 29)\n",
    "p3 = Person('Bob', 35)\n",
    "\n",
    "group = Group([p1, p2, p3])\n",
    "\n",
    "with open('group.pickle', 'wb') as f:\n",
    "    pickle.dump(group, f)\n",
    "\n",
    "with open('group.pickle', 'rb') as f:\n",
    "    group2 = pickle.load(f)\n",
    "\n",
    "print(group2)"
   ]
  }
 ],
 "metadata": {
  "kernelspec": {
   "display_name": "env",
   "language": "python",
   "name": "python3"
  },
  "language_info": {
   "codemirror_mode": {
    "name": "ipython",
    "version": 3
   },
   "file_extension": ".py",
   "mimetype": "text/x-python",
   "name": "python",
   "nbconvert_exporter": "python",
   "pygments_lexer": "ipython3",
   "version": "3.10.5"
  },
  "orig_nbformat": 4
 },
 "nbformat": 4,
 "nbformat_minor": 2
}
